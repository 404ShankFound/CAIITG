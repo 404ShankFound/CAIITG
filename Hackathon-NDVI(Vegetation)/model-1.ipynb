{
 "cells": [
  {
   "cell_type": "code",
   "execution_count": 1,
   "id": "5b16b35d",
   "metadata": {
    "_cell_guid": "b1076dfc-b9ad-4769-8c92-a6c4dae69d19",
    "_uuid": "8f2839f25d086af736a60e9eeb907d3b93b6e0e5",
    "execution": {
     "iopub.execute_input": "2025-06-12T11:34:17.676701Z",
     "iopub.status.busy": "2025-06-12T11:34:17.675912Z",
     "iopub.status.idle": "2025-06-12T11:34:19.600594Z",
     "shell.execute_reply": "2025-06-12T11:34:19.599570Z"
    },
    "papermill": {
     "duration": 1.931607,
     "end_time": "2025-06-12T11:34:19.602255",
     "exception": false,
     "start_time": "2025-06-12T11:34:17.670648",
     "status": "completed"
    },
    "tags": []
   },
   "outputs": [
    {
     "name": "stdout",
     "output_type": "stream",
     "text": [
      "/kaggle/input/summer-analytics-mid-hackathon/hacktest.csv\n",
      "/kaggle/input/summer-analytics-mid-hackathon/hacktrain.csv\n"
     ]
    }
   ],
   "source": [
    "# This Python 3 environment comes with many helpful analytics libraries installed\n",
    "# It is defined by the kaggle/python Docker image: https://github.com/kaggle/docker-python\n",
    "# For example, here's several helpful packages to load\n",
    "\n",
    "import numpy as np # linear algebra\n",
    "import pandas as pd # data processing, CSV file I/O (e.g. pd.read_csv)\n",
    "\n",
    "# Input data files are available in the read-only \"../input/\" directory\n",
    "# For example, running this (by clicking run or pressing Shift+Enter) will list all files under the input directory\n",
    "\n",
    "import os\n",
    "for dirname, _, filenames in os.walk('/kaggle/input'):\n",
    "    for filename in filenames:\n",
    "        print(os.path.join(dirname, filename))\n",
    "\n",
    "# You can write up to 20GB to the current directory (/kaggle/working/) that gets preserved as output when you create a version using \"Save & Run All\" \n",
    "# You can also write temporary files to /kaggle/temp/, but they won't be saved outside of the current session"
   ]
  },
  {
   "cell_type": "code",
   "execution_count": 2,
   "id": "cf4a2f0e",
   "metadata": {
    "execution": {
     "iopub.execute_input": "2025-06-12T11:34:19.611021Z",
     "iopub.status.busy": "2025-06-12T11:34:19.610633Z",
     "iopub.status.idle": "2025-06-12T11:34:19.744801Z",
     "shell.execute_reply": "2025-06-12T11:34:19.743816Z"
    },
    "papermill": {
     "duration": 0.140142,
     "end_time": "2025-06-12T11:34:19.746446",
     "exception": false,
     "start_time": "2025-06-12T11:34:19.606304",
     "status": "completed"
    },
    "tags": []
   },
   "outputs": [
    {
     "name": "stdout",
     "output_type": "stream",
     "text": [
      "(8000, 30)\n",
      "   Unnamed: 0  ID  class  20150720_N  20150602_N  20150517_N  20150501_N  \\\n",
      "0           0   1  water    637.5950     658.668   -1882.030   -1924.360   \n",
      "1           1   2  water    634.2400     593.705   -1625.790   -1672.320   \n",
      "2           3   4  water     58.0174   -1599.160         NaN   -1052.630   \n",
      "3           4   5  water     72.5180         NaN     380.436   -1256.930   \n",
      "4           7   8  water   1136.4400         NaN         NaN    1647.830   \n",
      "5           8   9  water   1116.8600         NaN    -408.147    1685.700   \n",
      "6           9  10  water   1485.7700    -223.142     727.773     180.491   \n",
      "7          11  12  water   1207.3400    2833.130    -725.103    1720.860   \n",
      "8          14  15  water   2250.3300     671.599     229.826    1831.990   \n",
      "9          15  16  water   4568.4600    5011.310    3088.330    2260.560   \n",
      "\n",
      "   20150415_N  20150330_N  20150314_N  ...  20140610_N  20140525_N  \\\n",
      "0     997.904 -1739.99000     630.087  ...         NaN   -1043.160   \n",
      "1     914.198  -692.38600     707.626  ...         NaN    -933.934   \n",
      "2         NaN -1564.63000         NaN  ...   -1025.880     368.622   \n",
      "3     515.805 -1413.18000    -802.942  ...   -1813.950     155.624   \n",
      "4    1935.800         NaN    2158.980  ...    1535.000    1959.430   \n",
      "5    1046.670    -7.58804    1435.990  ...    1287.740         NaN   \n",
      "6    1779.890  2613.97000    1869.390  ...    3192.460    2152.400   \n",
      "7    1665.010  1037.84000     388.642  ...     875.583    1836.610   \n",
      "8    1842.560  2186.74000    1910.270  ...    1555.150    2133.410   \n",
      "9    1864.960  1834.98000    2236.350  ...    3973.620    2496.830   \n",
      "\n",
      "   20140509_N  20140423_N  20140407_N  20140322_N  20140218_N  20140202_N  \\\n",
      "0  -1942.4900     267.138         NaN         NaN     211.328  -2203.0200   \n",
      "1   -625.3850     120.059    364.8580     476.972     220.878  -2250.0000   \n",
      "2         NaN   -1227.800    304.6210         NaN     369.214  -2202.1200   \n",
      "3         NaN    -924.073    432.1500     282.833     298.320  -2197.3600   \n",
      "4   -279.3170    -384.915   -113.4060    1020.720    1660.650   -116.8010   \n",
      "5   -561.3470     142.293     48.2714         NaN    1742.290    -60.3867   \n",
      "6   -485.5630         NaN    178.7810    1763.990    1480.800    931.3970   \n",
      "7     78.7805         NaN   -463.4920     762.725    1948.980     41.1520   \n",
      "8   1950.3300    1599.420   1430.9100     667.427    1426.470   2480.4900   \n",
      "9   4758.1500    4177.900   4663.6600    2640.090    1943.720   4789.5300   \n",
      "\n",
      "   20140117_N  20140101_N  \n",
      "0   -1180.190     433.906  \n",
      "1   -1360.560     524.075  \n",
      "2         NaN   -1343.550  \n",
      "3         NaN    -826.727  \n",
      "4    -568.050   -1357.140  \n",
      "5   -1187.450   -1255.100  \n",
      "6    -724.129   -1007.910  \n",
      "7   -1404.070   -1095.370  \n",
      "8    1794.960    1378.450  \n",
      "9    4973.420         NaN  \n",
      "\n",
      "[10 rows x 30 columns]\n",
      "(2845, 29)\n",
      "   Unnamed: 0  ID  20150720_N  20150602_N  20150517_N  20150501_N  20150415_N  \\\n",
      "0           0   1     7466.42     413.162    5761.000     5625.45     489.403   \n",
      "1           1   2     7235.26    6037.350    1027.560     6085.14    1618.050   \n",
      "2           2   3     7425.08    6969.980    1177.940     7408.93     861.061   \n",
      "3           3   4     7119.12    1731.620    6311.930     6441.61     465.979   \n",
      "4           4   5     7519.55    8130.260    1482.540     7879.53    1001.210   \n",
      "5           5   6     4992.26    4824.180    4960.390     6553.37     405.763   \n",
      "6           6   7     7130.13     945.708    5780.200     5396.83     916.420   \n",
      "7           7   8     6864.45    4817.210    2212.300     6358.11    6099.540   \n",
      "8           8   9     6559.95    6917.930    5176.660     5509.89     549.555   \n",
      "9           9  10     5948.73    4661.130     593.902     3385.59    3565.900   \n",
      "\n",
      "   20150330_N  20150314_N  20150226_N  ...  20140610_N  20140525_N  \\\n",
      "0     3923.84    3097.110     6766.42  ...     801.184     927.115   \n",
      "1     6668.54    2513.990     1051.69  ...    5533.470    5103.040   \n",
      "2     7644.43     814.458     1504.29  ...    1981.390    6204.540   \n",
      "3     7128.42    1649.120     6935.22  ...     959.344    5794.150   \n",
      "4     7937.60    4122.530     1094.51  ...    7636.070    6996.760   \n",
      "5     7714.71    4572.040     6903.70  ...     758.989    4923.170   \n",
      "6     1082.96     949.238     7812.61  ...     482.847    3767.080   \n",
      "7     6475.57     396.395     1654.30  ...     751.914    3426.670   \n",
      "8     6661.18    6324.520     7027.78  ...    7290.460    6037.090   \n",
      "9     5938.80    5891.220     4974.21  ...    5666.180    4625.510   \n",
      "\n",
      "   20140509_N  20140423_N  20140407_N  20140322_N  20140218_N  20140202_N  \\\n",
      "0    4704.140     6378.42     340.949    2695.570     527.268     4736.75   \n",
      "1    5216.120     4885.27    4366.790    1234.140    3298.110     6942.68   \n",
      "2    7021.690     5704.41    4897.450    1789.990    2206.100     6928.93   \n",
      "3    1045.570     5572.90     586.287     685.906    1287.000     6734.72   \n",
      "4    7413.430     4596.13    4511.700    1413.520    3283.940     7937.68   \n",
      "5    2495.270     5064.41     508.409     994.392    1169.550     7041.81   \n",
      "6    3388.450     4653.78     389.505    2306.970     848.150     6918.69   \n",
      "7    5825.120     3163.32    4311.050    4928.210    1074.070     7031.05   \n",
      "8     401.188     5772.71    4928.220     622.970    2570.380     2184.83   \n",
      "9    4983.570     4398.58    4048.610     685.517     528.016     5736.14   \n",
      "\n",
      "   20140117_N  20140101_N  \n",
      "0     601.843    6639.760  \n",
      "1    1070.440     842.101  \n",
      "2    1036.560     831.441  \n",
      "3     824.584    6883.610  \n",
      "4    1857.800    1336.920  \n",
      "5     861.838    4379.730  \n",
      "6     790.072    3324.030  \n",
      "7    2837.780     985.935  \n",
      "8    1859.130    2248.720  \n",
      "9     328.057    5091.980  \n",
      "\n",
      "[10 rows x 29 columns]\n"
     ]
    }
   ],
   "source": [
    "df=pd.read_csv(\"/kaggle/input/summer-analytics-mid-hackathon/hacktrain.csv\")\n",
    "test_df=pd.read_csv(\"/kaggle/input/summer-analytics-mid-hackathon/hacktest.csv\")\n",
    "import warnings\n",
    "warnings.filterwarnings(\"ignore\")\n",
    "print(df.shape)\n",
    "print(df.head(10))\n",
    "print(test_df.shape)\n",
    "print(test_df.head(10))"
   ]
  },
  {
   "cell_type": "code",
   "execution_count": 3,
   "id": "7023a839",
   "metadata": {
    "execution": {
     "iopub.execute_input": "2025-06-12T11:34:19.756164Z",
     "iopub.status.busy": "2025-06-12T11:34:19.755848Z",
     "iopub.status.idle": "2025-06-12T11:34:19.774044Z",
     "shell.execute_reply": "2025-06-12T11:34:19.773141Z"
    },
    "papermill": {
     "duration": 0.024825,
     "end_time": "2025-06-12T11:34:19.775501",
     "exception": false,
     "start_time": "2025-06-12T11:34:19.750676",
     "status": "completed"
    },
    "tags": []
   },
   "outputs": [
    {
     "name": "stdout",
     "output_type": "stream",
     "text": [
      "Unnamed: 0       0\n",
      "ID               0\n",
      "class            0\n",
      "20150720_N     560\n",
      "20150602_N    1200\n",
      "20150517_N     800\n",
      "20150501_N     960\n",
      "20150415_N     480\n",
      "20150330_N    1120\n",
      "20150314_N     720\n",
      "20150226_N    1360\n",
      "20150210_N     640\n",
      "20150125_N    1040\n",
      "20150109_N     880\n",
      "20141117_N    1280\n",
      "20141101_N     400\n",
      "20141016_N    1440\n",
      "20140930_N     800\n",
      "20140813_N     560\n",
      "20140626_N    1600\n",
      "20140610_N     480\n",
      "20140525_N     720\n",
      "20140509_N     880\n",
      "20140423_N    1760\n",
      "20140407_N     640\n",
      "20140322_N    1120\n",
      "20140218_N    1440\n",
      "20140202_N     560\n",
      "20140117_N    1200\n",
      "20140101_N     400\n",
      "dtype: int64\n"
     ]
    },
    {
     "data": {
      "text/plain": [
       "Unnamed: 0    0\n",
       "ID            0\n",
       "20150720_N    0\n",
       "20150602_N    0\n",
       "20150517_N    0\n",
       "20150501_N    0\n",
       "20150415_N    0\n",
       "20150330_N    0\n",
       "20150314_N    0\n",
       "20150226_N    0\n",
       "20150210_N    0\n",
       "20150125_N    0\n",
       "20150109_N    0\n",
       "20141117_N    0\n",
       "20141101_N    0\n",
       "20141016_N    0\n",
       "20140930_N    0\n",
       "20140813_N    0\n",
       "20140626_N    0\n",
       "20140610_N    0\n",
       "20140525_N    0\n",
       "20140509_N    0\n",
       "20140423_N    0\n",
       "20140407_N    0\n",
       "20140322_N    0\n",
       "20140218_N    0\n",
       "20140202_N    0\n",
       "20140117_N    0\n",
       "20140101_N    0\n",
       "dtype: int64"
      ]
     },
     "execution_count": 3,
     "metadata": {},
     "output_type": "execute_result"
    }
   ],
   "source": [
    "print(df.isnull().sum())\n",
    "test_df.isnull().sum()"
   ]
  },
  {
   "cell_type": "code",
   "execution_count": 4,
   "id": "ec5543e1",
   "metadata": {
    "execution": {
     "iopub.execute_input": "2025-06-12T11:34:19.784733Z",
     "iopub.status.busy": "2025-06-12T11:34:19.784418Z",
     "iopub.status.idle": "2025-06-12T11:34:19.790085Z",
     "shell.execute_reply": "2025-06-12T11:34:19.789018Z"
    },
    "papermill": {
     "duration": 0.012259,
     "end_time": "2025-06-12T11:34:19.791548",
     "exception": false,
     "start_time": "2025-06-12T11:34:19.779289",
     "status": "completed"
    },
    "tags": []
   },
   "outputs": [
    {
     "name": "stdout",
     "output_type": "stream",
     "text": [
      "<class 'pandas.core.frame.DataFrame'>\n"
     ]
    }
   ],
   "source": [
    "print(type(df))"
   ]
  },
  {
   "cell_type": "code",
   "execution_count": 5,
   "id": "88103792",
   "metadata": {
    "execution": {
     "iopub.execute_input": "2025-06-12T11:34:19.801349Z",
     "iopub.status.busy": "2025-06-12T11:34:19.801027Z",
     "iopub.status.idle": "2025-06-12T11:34:19.811856Z",
     "shell.execute_reply": "2025-06-12T11:34:19.810866Z"
    },
    "papermill": {
     "duration": 0.017881,
     "end_time": "2025-06-12T11:34:19.813594",
     "exception": false,
     "start_time": "2025-06-12T11:34:19.795713",
     "status": "completed"
    },
    "tags": []
   },
   "outputs": [],
   "source": [
    "test_df = test_df.drop(columns=[\"Unnamed: 0\"])"
   ]
  },
  {
   "cell_type": "code",
   "execution_count": 6,
   "id": "a1d74807",
   "metadata": {
    "execution": {
     "iopub.execute_input": "2025-06-12T11:34:19.823773Z",
     "iopub.status.busy": "2025-06-12T11:34:19.823494Z",
     "iopub.status.idle": "2025-06-12T11:34:19.832112Z",
     "shell.execute_reply": "2025-06-12T11:34:19.831134Z"
    },
    "papermill": {
     "duration": 0.014917,
     "end_time": "2025-06-12T11:34:19.833666",
     "exception": false,
     "start_time": "2025-06-12T11:34:19.818749",
     "status": "completed"
    },
    "tags": []
   },
   "outputs": [
    {
     "data": {
      "text/plain": [
       "Index(['ID', 'class', '20150720_N', '20150602_N', '20150517_N', '20150501_N',\n",
       "       '20150415_N', '20150330_N', '20150314_N', '20150226_N', '20150210_N',\n",
       "       '20150125_N', '20150109_N', '20141117_N', '20141101_N', '20141016_N',\n",
       "       '20140930_N', '20140813_N', '20140626_N', '20140610_N', '20140525_N',\n",
       "       '20140509_N', '20140423_N', '20140407_N', '20140322_N', '20140218_N',\n",
       "       '20140202_N', '20140117_N', '20140101_N'],\n",
       "      dtype='object')"
      ]
     },
     "execution_count": 6,
     "metadata": {},
     "output_type": "execute_result"
    }
   ],
   "source": [
    "df = df.drop(columns=[\"Unnamed: 0\"])\n",
    "df.columns"
   ]
  },
  {
   "cell_type": "code",
   "execution_count": 7,
   "id": "610b8894",
   "metadata": {
    "execution": {
     "iopub.execute_input": "2025-06-12T11:34:19.843273Z",
     "iopub.status.busy": "2025-06-12T11:34:19.842977Z",
     "iopub.status.idle": "2025-06-12T11:34:19.852543Z",
     "shell.execute_reply": "2025-06-12T11:34:19.851590Z"
    },
    "papermill": {
     "duration": 0.016138,
     "end_time": "2025-06-12T11:34:19.854068",
     "exception": false,
     "start_time": "2025-06-12T11:34:19.837930",
     "status": "completed"
    },
    "tags": []
   },
   "outputs": [
    {
     "data": {
      "text/plain": [
       "0            water\n",
       "1            water\n",
       "2            water\n",
       "3            water\n",
       "4            water\n",
       "           ...    \n",
       "7995    impervious\n",
       "7996    impervious\n",
       "7997    impervious\n",
       "7998    impervious\n",
       "7999    impervious\n",
       "Name: class, Length: 8000, dtype: object"
      ]
     },
     "execution_count": 7,
     "metadata": {},
     "output_type": "execute_result"
    }
   ],
   "source": [
    "X = df.drop(columns=[\"ID\", \"class\"])\n",
    "y = df[\"class\"]\n",
    "y"
   ]
  },
  {
   "cell_type": "code",
   "execution_count": 8,
   "id": "471e4ea2",
   "metadata": {
    "execution": {
     "iopub.execute_input": "2025-06-12T11:34:19.863188Z",
     "iopub.status.busy": "2025-06-12T11:34:19.862872Z",
     "iopub.status.idle": "2025-06-12T11:34:19.868928Z",
     "shell.execute_reply": "2025-06-12T11:34:19.867547Z"
    },
    "papermill": {
     "duration": 0.012601,
     "end_time": "2025-06-12T11:34:19.870647",
     "exception": false,
     "start_time": "2025-06-12T11:34:19.858046",
     "status": "completed"
    },
    "tags": []
   },
   "outputs": [],
   "source": [
    "X_test = test_df.drop(columns=[\"ID\"])\n"
   ]
  },
  {
   "cell_type": "code",
   "execution_count": 9,
   "id": "662914aa",
   "metadata": {
    "execution": {
     "iopub.execute_input": "2025-06-12T11:34:19.880505Z",
     "iopub.status.busy": "2025-06-12T11:34:19.879969Z",
     "iopub.status.idle": "2025-06-12T11:34:22.975732Z",
     "shell.execute_reply": "2025-06-12T11:34:22.974827Z"
    },
    "papermill": {
     "duration": 3.10223,
     "end_time": "2025-06-12T11:34:22.977078",
     "exception": false,
     "start_time": "2025-06-12T11:34:19.874848",
     "status": "completed"
    },
    "tags": []
   },
   "outputs": [
    {
     "data": {
      "image/png": "[encoded data removed]",
      "text/plain": [
       "<Figure size 640x480 with 1 Axes>"
      ]
     },
     "metadata": {},
     "output_type": "display_data"
    },
    {
     "data": {
      "text/plain": [
       "<Axes: >"
      ]
     },
     "execution_count": 9,
     "metadata": {},
     "output_type": "execute_result"
    },
    {
     "data": {
      "image/png": "[encoded data removed]",
      "text/plain": [
       "<Figure size 640x480 with 1 Axes>"
      ]
     },
     "metadata": {},
     "output_type": "display_data"
    }
   ],
   "source": [
    "import matplotlib.pyplot as plt\n",
    "import seaborn as sns\n",
    "sns.boxplot(df)\n",
    "plt.show()\n",
    "sns.boxplot(test_df)"
   ]
  },
  {
   "cell_type": "code",
   "execution_count": 10,
   "id": "3bf957a8",
   "metadata": {
    "execution": {
     "iopub.execute_input": "2025-06-12T11:34:22.989140Z",
     "iopub.status.busy": "2025-06-12T11:34:22.988695Z",
     "iopub.status.idle": "2025-06-12T11:34:23.579999Z",
     "shell.execute_reply": "2025-06-12T11:34:23.579259Z"
    },
    "papermill": {
     "duration": 0.599253,
     "end_time": "2025-06-12T11:34:23.581573",
     "exception": false,
     "start_time": "2025-06-12T11:34:22.982320",
     "status": "completed"
    },
    "tags": []
   },
   "outputs": [],
   "source": [
    "from sklearn.impute import SimpleImputer\n",
    "imputer = SimpleImputer(strategy=\"median\")\n",
    "X_imputed = imputer.fit_transform(X)"
   ]
  },
  {
   "cell_type": "code",
   "execution_count": 11,
   "id": "e190a187",
   "metadata": {
    "execution": {
     "iopub.execute_input": "2025-06-12T11:34:23.593272Z",
     "iopub.status.busy": "2025-06-12T11:34:23.592925Z",
     "iopub.status.idle": "2025-06-12T11:34:23.598701Z",
     "shell.execute_reply": "2025-06-12T11:34:23.597632Z"
    },
    "papermill": {
     "duration": 0.013425,
     "end_time": "2025-06-12T11:34:23.600227",
     "exception": false,
     "start_time": "2025-06-12T11:34:23.586802",
     "status": "completed"
    },
    "tags": []
   },
   "outputs": [],
   "source": [
    "X_scaled_ndvi = X_imputed / 1000.0\n",
    "X_test_scaled = X_test / 1000.0"
   ]
  },
  {
   "cell_type": "code",
   "execution_count": 12,
   "id": "d3dc97d5",
   "metadata": {
    "execution": {
     "iopub.execute_input": "2025-06-12T11:34:23.611789Z",
     "iopub.status.busy": "2025-06-12T11:34:23.611489Z",
     "iopub.status.idle": "2025-06-12T11:34:23.622049Z",
     "shell.execute_reply": "2025-06-12T11:34:23.620836Z"
    },
    "papermill": {
     "duration": 0.018212,
     "end_time": "2025-06-12T11:34:23.623799",
     "exception": false,
     "start_time": "2025-06-12T11:34:23.605587",
     "status": "completed"
    },
    "tags": []
   },
   "outputs": [],
   "source": [
    "X_clipped = np.clip(X_scaled_ndvi, -1, 1)\n",
    "X_test_clipped = np.clip(X_test_scaled, -1, 1)"
   ]
  },
  {
   "cell_type": "code",
   "execution_count": 13,
   "id": "49a694ad",
   "metadata": {
    "execution": {
     "iopub.execute_input": "2025-06-12T11:34:23.637571Z",
     "iopub.status.busy": "2025-06-12T11:34:23.637205Z",
     "iopub.status.idle": "2025-06-12T11:34:23.653790Z",
     "shell.execute_reply": "2025-06-12T11:34:23.653008Z"
    },
    "papermill": {
     "duration": 0.026301,
     "end_time": "2025-06-12T11:34:23.655569",
     "exception": false,
     "start_time": "2025-06-12T11:34:23.629268",
     "status": "completed"
    },
    "tags": []
   },
   "outputs": [],
   "source": [
    "from sklearn.preprocessing import MinMaxScaler\n",
    "scaler = MinMaxScaler(feature_range=(-1, 1))\n",
    "X_final = scaler.fit_transform(X_clipped)\n",
    "X_test_final = scaler.transform(X_test_clipped)"
   ]
  },
  {
   "cell_type": "code",
   "execution_count": 14,
   "id": "8df3c57c",
   "metadata": {
    "execution": {
     "iopub.execute_input": "2025-06-12T11:34:23.668204Z",
     "iopub.status.busy": "2025-06-12T11:34:23.667693Z",
     "iopub.status.idle": "2025-06-12T11:34:23.674848Z",
     "shell.execute_reply": "2025-06-12T11:34:23.673777Z"
    },
    "papermill": {
     "duration": 0.015745,
     "end_time": "2025-06-12T11:34:23.676741",
     "exception": false,
     "start_time": "2025-06-12T11:34:23.660996",
     "status": "completed"
    },
    "tags": []
   },
   "outputs": [],
   "source": [
    "from sklearn.preprocessing import LabelEncoder\n",
    "encoder = LabelEncoder()\n",
    "y_encoded = encoder.fit_transform(y)"
   ]
  },
  {
   "cell_type": "code",
   "execution_count": 15,
   "id": "15119abd",
   "metadata": {
    "execution": {
     "iopub.execute_input": "2025-06-12T11:34:23.688485Z",
     "iopub.status.busy": "2025-06-12T11:34:23.688143Z",
     "iopub.status.idle": "2025-06-12T11:34:28.825829Z",
     "shell.execute_reply": "2025-06-12T11:34:28.822436Z"
    },
    "papermill": {
     "duration": 5.146003,
     "end_time": "2025-06-12T11:34:28.827903",
     "exception": false,
     "start_time": "2025-06-12T11:34:23.681900",
     "status": "completed"
    },
    "tags": []
   },
   "outputs": [],
   "source": [
    "from sklearn.linear_model import LogisticRegression\n",
    "from sklearn.model_selection import train_test_split\n",
    "from sklearn.metrics import accuracy_score\n",
    "from scipy.stats import zscore\n",
    "\n",
    "X_train, X_val, y_train, y_val = train_test_split(X_final, y_encoded, test_size=0.2, stratify=y_encoded, random_state=42)\n",
    "model1 = LogisticRegression(multi_class='multinomial', max_iter=1000)\n",
    "model1.fit(X_train, y_train)\n",
    "\n",
    "val_acc_1 = accuracy_score(y_val, model1.predict(X_val))\n",
    "pred_1 = model1.predict(X_test_final)\n",
    "df=pd.DataFrame({'ID': test_df['ID'], 'class': encoder.inverse_transform(pred_1)})"
   ]
  },
  {
   "cell_type": "code",
   "execution_count": 16,
   "id": "4316c228",
   "metadata": {
    "execution": {
     "iopub.execute_input": "2025-06-12T11:34:28.846617Z",
     "iopub.status.busy": "2025-06-12T11:34:28.845563Z",
     "iopub.status.idle": "2025-06-12T11:34:28.865065Z",
     "shell.execute_reply": "2025-06-12T11:34:28.864284Z"
    },
    "papermill": {
     "duration": 0.030289,
     "end_time": "2025-06-12T11:34:28.866866",
     "exception": false,
     "start_time": "2025-06-12T11:34:28.836577",
     "status": "completed"
    },
    "tags": []
   },
   "outputs": [
    {
     "name": "stdout",
     "output_type": "stream",
     "text": [
      "Validation Accuracy - Model 1 (clip + scale): 0.8106\n"
     ]
    }
   ],
   "source": [
    "print(f\"Validation Accuracy - Model 1 (clip + scale): {val_acc_1:.4f}\")\n",
    "df.to_csv(\"SubmissionModel1.csv\", index=False)"
   ]
  },
  {
   "cell_type": "code",
   "execution_count": null,
   "id": "1412092b",
   "metadata": {
    "papermill": {
     "duration": 0.007766,
     "end_time": "2025-06-12T11:34:28.883118",
     "exception": false,
     "start_time": "2025-06-12T11:34:28.875352",
     "status": "completed"
    },
    "tags": []
   },
   "outputs": [],
   "source": []
  }
 ],
 "metadata": {
  "kaggle": {
   "accelerator": "none",
   "dataSources": [
    {
     "databundleVersionId": 12585144,
     "sourceId": 104491,
     "sourceType": "competition"
    }
   ],
   "dockerImageVersionId": 31040,
   "isGpuEnabled": false,
   "isInternetEnabled": true,
   "language": "python",
   "sourceType": "notebook"
  },
  "kernelspec": {
   "display_name": "Python 3",
   "language": "python",
   "name": "python3"
  },
  "language_info": {
   "codemirror_mode": {
    "name": "ipython",
    "version": 3
   },
   "file_extension": ".py",
   "mimetype": "text/x-python",
   "name": "python",
   "nbconvert_exporter": "python",
   "pygments_lexer": "ipython3",
   "version": "3.11.11"
  },
  "papermill": {
   "default_parameters": {},
   "duration": 16.806606,
   "end_time": "2025-06-12T11:34:29.611167",
   "environment_variables": {},
   "exception": null,
   "input_path": "__notebook__.ipynb",
   "output_path": "__notebook__.ipynb",
   "parameters": {},
   "start_time": "2025-06-12T11:34:12.804561",
   "version": "2.6.0"
  }
 },
 "nbformat": 4,
 "nbformat_minor": 5
}
