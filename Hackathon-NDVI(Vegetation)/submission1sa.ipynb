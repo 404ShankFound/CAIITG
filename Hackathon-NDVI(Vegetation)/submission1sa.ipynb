{
 "cells": [
  {
   "cell_type": "code",
   "execution_count": 1,
   "id": "fa4f443c",
   "metadata": {
    "_cell_guid": "b1076dfc-b9ad-4769-8c92-a6c4dae69d19",
    "_uuid": "8f2839f25d086af736a60e9eeb907d3b93b6e0e5",
    "execution": {
     "iopub.execute_input": "2025-06-12T12:40:40.863441Z",
     "iopub.status.busy": "2025-06-12T12:40:40.862075Z",
     "iopub.status.idle": "2025-06-12T12:40:43.030923Z",
     "shell.execute_reply": "2025-06-12T12:40:43.029873Z"
    },
    "papermill": {
     "duration": 2.177454,
     "end_time": "2025-06-12T12:40:43.032949",
     "exception": false,
     "start_time": "2025-06-12T12:40:40.855495",
     "status": "completed"
    },
    "tags": []
   },
   "outputs": [
    {
     "name": "stdout",
     "output_type": "stream",
     "text": [
      "/kaggle/input/summer-analytics-mid-hackathon/hacktest.csv\n",
      "/kaggle/input/summer-analytics-mid-hackathon/hacktrain.csv\n"
     ]
    }
   ],
   "source": [
    "# This Python 3 environment comes with many helpful analytics libraries installed\n",
    "# It is defined by the kaggle/python Docker image: https://github.com/kaggle/docker-python\n",
    "# For example, here's several helpful packages to load\n",
    "\n",
    "import numpy as np # linear algebra\n",
    "import pandas as pd # data processing, CSV file I/O (e.g. pd.read_csv)\n",
    "\n",
    "# Input data files are available in the read-only \"../input/\" directory\n",
    "# For example, running this (by clicking run or pressing Shift+Enter) will list all files under the input directory\n",
    "\n",
    "import os\n",
    "for dirname, _, filenames in os.walk('/kaggle/input'):\n",
    "    for filename in filenames:\n",
    "        print(os.path.join(dirname, filename))\n",
    "\n",
    "# You can write up to 20GB to the current directory (/kaggle/working/) that gets preserved as output when you create a version using \"Save & Run All\" \n",
    "# You can also write temporary files to /kaggle/temp/, but they won't be saved outside of the current session"
   ]
  },
  {
   "cell_type": "code",
   "execution_count": 2,
   "id": "05e5ec71",
   "metadata": {
    "execution": {
     "iopub.execute_input": "2025-06-12T12:40:43.042883Z",
     "iopub.status.busy": "2025-06-12T12:40:43.042356Z",
     "iopub.status.idle": "2025-06-12T12:40:43.156381Z",
     "shell.execute_reply": "2025-06-12T12:40:43.155416Z"
    },
    "papermill": {
     "duration": 0.121093,
     "end_time": "2025-06-12T12:40:43.158548",
     "exception": false,
     "start_time": "2025-06-12T12:40:43.037455",
     "status": "completed"
    },
    "tags": []
   },
   "outputs": [
    {
     "name": "stdout",
     "output_type": "stream",
     "text": [
      "(8000, 30)\n"
     ]
    },
    {
     "data": {
      "text/html": [
       "<div>\n",
       "<style scoped>\n",
       "    .dataframe tbody tr th:only-of-type {\n",
       "        vertical-align: middle;\n",
       "    }\n",
       "\n",
       "    .dataframe tbody tr th {\n",
       "        vertical-align: top;\n",
       "    }\n",
       "\n",
       "    .dataframe thead th {\n",
       "        text-align: right;\n",
       "    }\n",
       "</style>\n",
       "<table border=\"1\" class=\"dataframe\">\n",
       "  <thead>\n",
       "    <tr style=\"text-align: right;\">\n",
       "      <th></th>\n",
       "      <th>Unnamed: 0</th>\n",
       "      <th>ID</th>\n",
       "      <th>class</th>\n",
       "      <th>20150720_N</th>\n",
       "      <th>20150602_N</th>\n",
       "      <th>20150517_N</th>\n",
       "      <th>20150501_N</th>\n",
       "      <th>20150415_N</th>\n",
       "      <th>20150330_N</th>\n",
       "      <th>20150314_N</th>\n",
       "      <th>...</th>\n",
       "      <th>20140610_N</th>\n",
       "      <th>20140525_N</th>\n",
       "      <th>20140509_N</th>\n",
       "      <th>20140423_N</th>\n",
       "      <th>20140407_N</th>\n",
       "      <th>20140322_N</th>\n",
       "      <th>20140218_N</th>\n",
       "      <th>20140202_N</th>\n",
       "      <th>20140117_N</th>\n",
       "      <th>20140101_N</th>\n",
       "    </tr>\n",
       "  </thead>\n",
       "  <tbody>\n",
       "    <tr>\n",
       "      <th>0</th>\n",
       "      <td>0</td>\n",
       "      <td>1</td>\n",
       "      <td>water</td>\n",
       "      <td>637.5950</td>\n",
       "      <td>658.668</td>\n",
       "      <td>-1882.030</td>\n",
       "      <td>-1924.360</td>\n",
       "      <td>997.904</td>\n",
       "      <td>-1739.99000</td>\n",
       "      <td>630.087</td>\n",
       "      <td>...</td>\n",
       "      <td>NaN</td>\n",
       "      <td>-1043.160</td>\n",
       "      <td>-1942.4900</td>\n",
       "      <td>267.138</td>\n",
       "      <td>NaN</td>\n",
       "      <td>NaN</td>\n",
       "      <td>211.328</td>\n",
       "      <td>-2203.0200</td>\n",
       "      <td>-1180.190</td>\n",
       "      <td>433.906</td>\n",
       "    </tr>\n",
       "    <tr>\n",
       "      <th>1</th>\n",
       "      <td>1</td>\n",
       "      <td>2</td>\n",
       "      <td>water</td>\n",
       "      <td>634.2400</td>\n",
       "      <td>593.705</td>\n",
       "      <td>-1625.790</td>\n",
       "      <td>-1672.320</td>\n",
       "      <td>914.198</td>\n",
       "      <td>-692.38600</td>\n",
       "      <td>707.626</td>\n",
       "      <td>...</td>\n",
       "      <td>NaN</td>\n",
       "      <td>-933.934</td>\n",
       "      <td>-625.3850</td>\n",
       "      <td>120.059</td>\n",
       "      <td>364.8580</td>\n",
       "      <td>476.972</td>\n",
       "      <td>220.878</td>\n",
       "      <td>-2250.0000</td>\n",
       "      <td>-1360.560</td>\n",
       "      <td>524.075</td>\n",
       "    </tr>\n",
       "    <tr>\n",
       "      <th>2</th>\n",
       "      <td>3</td>\n",
       "      <td>4</td>\n",
       "      <td>water</td>\n",
       "      <td>58.0174</td>\n",
       "      <td>-1599.160</td>\n",
       "      <td>NaN</td>\n",
       "      <td>-1052.630</td>\n",
       "      <td>NaN</td>\n",
       "      <td>-1564.63000</td>\n",
       "      <td>NaN</td>\n",
       "      <td>...</td>\n",
       "      <td>-1025.880</td>\n",
       "      <td>368.622</td>\n",
       "      <td>NaN</td>\n",
       "      <td>-1227.800</td>\n",
       "      <td>304.6210</td>\n",
       "      <td>NaN</td>\n",
       "      <td>369.214</td>\n",
       "      <td>-2202.1200</td>\n",
       "      <td>NaN</td>\n",
       "      <td>-1343.550</td>\n",
       "    </tr>\n",
       "    <tr>\n",
       "      <th>3</th>\n",
       "      <td>4</td>\n",
       "      <td>5</td>\n",
       "      <td>water</td>\n",
       "      <td>72.5180</td>\n",
       "      <td>NaN</td>\n",
       "      <td>380.436</td>\n",
       "      <td>-1256.930</td>\n",
       "      <td>515.805</td>\n",
       "      <td>-1413.18000</td>\n",
       "      <td>-802.942</td>\n",
       "      <td>...</td>\n",
       "      <td>-1813.950</td>\n",
       "      <td>155.624</td>\n",
       "      <td>NaN</td>\n",
       "      <td>-924.073</td>\n",
       "      <td>432.1500</td>\n",
       "      <td>282.833</td>\n",
       "      <td>298.320</td>\n",
       "      <td>-2197.3600</td>\n",
       "      <td>NaN</td>\n",
       "      <td>-826.727</td>\n",
       "    </tr>\n",
       "    <tr>\n",
       "      <th>4</th>\n",
       "      <td>7</td>\n",
       "      <td>8</td>\n",
       "      <td>water</td>\n",
       "      <td>1136.4400</td>\n",
       "      <td>NaN</td>\n",
       "      <td>NaN</td>\n",
       "      <td>1647.830</td>\n",
       "      <td>1935.800</td>\n",
       "      <td>NaN</td>\n",
       "      <td>2158.980</td>\n",
       "      <td>...</td>\n",
       "      <td>1535.000</td>\n",
       "      <td>1959.430</td>\n",
       "      <td>-279.3170</td>\n",
       "      <td>-384.915</td>\n",
       "      <td>-113.4060</td>\n",
       "      <td>1020.720</td>\n",
       "      <td>1660.650</td>\n",
       "      <td>-116.8010</td>\n",
       "      <td>-568.050</td>\n",
       "      <td>-1357.140</td>\n",
       "    </tr>\n",
       "    <tr>\n",
       "      <th>5</th>\n",
       "      <td>8</td>\n",
       "      <td>9</td>\n",
       "      <td>water</td>\n",
       "      <td>1116.8600</td>\n",
       "      <td>NaN</td>\n",
       "      <td>-408.147</td>\n",
       "      <td>1685.700</td>\n",
       "      <td>1046.670</td>\n",
       "      <td>-7.58804</td>\n",
       "      <td>1435.990</td>\n",
       "      <td>...</td>\n",
       "      <td>1287.740</td>\n",
       "      <td>NaN</td>\n",
       "      <td>-561.3470</td>\n",
       "      <td>142.293</td>\n",
       "      <td>48.2714</td>\n",
       "      <td>NaN</td>\n",
       "      <td>1742.290</td>\n",
       "      <td>-60.3867</td>\n",
       "      <td>-1187.450</td>\n",
       "      <td>-1255.100</td>\n",
       "    </tr>\n",
       "    <tr>\n",
       "      <th>6</th>\n",
       "      <td>9</td>\n",
       "      <td>10</td>\n",
       "      <td>water</td>\n",
       "      <td>1485.7700</td>\n",
       "      <td>-223.142</td>\n",
       "      <td>727.773</td>\n",
       "      <td>180.491</td>\n",
       "      <td>1779.890</td>\n",
       "      <td>2613.97000</td>\n",
       "      <td>1869.390</td>\n",
       "      <td>...</td>\n",
       "      <td>3192.460</td>\n",
       "      <td>2152.400</td>\n",
       "      <td>-485.5630</td>\n",
       "      <td>NaN</td>\n",
       "      <td>178.7810</td>\n",
       "      <td>1763.990</td>\n",
       "      <td>1480.800</td>\n",
       "      <td>931.3970</td>\n",
       "      <td>-724.129</td>\n",
       "      <td>-1007.910</td>\n",
       "    </tr>\n",
       "    <tr>\n",
       "      <th>7</th>\n",
       "      <td>11</td>\n",
       "      <td>12</td>\n",
       "      <td>water</td>\n",
       "      <td>1207.3400</td>\n",
       "      <td>2833.130</td>\n",
       "      <td>-725.103</td>\n",
       "      <td>1720.860</td>\n",
       "      <td>1665.010</td>\n",
       "      <td>1037.84000</td>\n",
       "      <td>388.642</td>\n",
       "      <td>...</td>\n",
       "      <td>875.583</td>\n",
       "      <td>1836.610</td>\n",
       "      <td>78.7805</td>\n",
       "      <td>NaN</td>\n",
       "      <td>-463.4920</td>\n",
       "      <td>762.725</td>\n",
       "      <td>1948.980</td>\n",
       "      <td>41.1520</td>\n",
       "      <td>-1404.070</td>\n",
       "      <td>-1095.370</td>\n",
       "    </tr>\n",
       "    <tr>\n",
       "      <th>8</th>\n",
       "      <td>14</td>\n",
       "      <td>15</td>\n",
       "      <td>water</td>\n",
       "      <td>2250.3300</td>\n",
       "      <td>671.599</td>\n",
       "      <td>229.826</td>\n",
       "      <td>1831.990</td>\n",
       "      <td>1842.560</td>\n",
       "      <td>2186.74000</td>\n",
       "      <td>1910.270</td>\n",
       "      <td>...</td>\n",
       "      <td>1555.150</td>\n",
       "      <td>2133.410</td>\n",
       "      <td>1950.3300</td>\n",
       "      <td>1599.420</td>\n",
       "      <td>1430.9100</td>\n",
       "      <td>667.427</td>\n",
       "      <td>1426.470</td>\n",
       "      <td>2480.4900</td>\n",
       "      <td>1794.960</td>\n",
       "      <td>1378.450</td>\n",
       "    </tr>\n",
       "    <tr>\n",
       "      <th>9</th>\n",
       "      <td>15</td>\n",
       "      <td>16</td>\n",
       "      <td>water</td>\n",
       "      <td>4568.4600</td>\n",
       "      <td>5011.310</td>\n",
       "      <td>3088.330</td>\n",
       "      <td>2260.560</td>\n",
       "      <td>1864.960</td>\n",
       "      <td>1834.98000</td>\n",
       "      <td>2236.350</td>\n",
       "      <td>...</td>\n",
       "      <td>3973.620</td>\n",
       "      <td>2496.830</td>\n",
       "      <td>4758.1500</td>\n",
       "      <td>4177.900</td>\n",
       "      <td>4663.6600</td>\n",
       "      <td>2640.090</td>\n",
       "      <td>1943.720</td>\n",
       "      <td>4789.5300</td>\n",
       "      <td>4973.420</td>\n",
       "      <td>NaN</td>\n",
       "    </tr>\n",
       "  </tbody>\n",
       "</table>\n",
       "<p>10 rows × 30 columns</p>\n",
       "</div>"
      ],
      "text/plain": [
       "   Unnamed: 0  ID  class  20150720_N  20150602_N  20150517_N  20150501_N  \\\n",
       "0           0   1  water    637.5950     658.668   -1882.030   -1924.360   \n",
       "1           1   2  water    634.2400     593.705   -1625.790   -1672.320   \n",
       "2           3   4  water     58.0174   -1599.160         NaN   -1052.630   \n",
       "3           4   5  water     72.5180         NaN     380.436   -1256.930   \n",
       "4           7   8  water   1136.4400         NaN         NaN    1647.830   \n",
       "5           8   9  water   1116.8600         NaN    -408.147    1685.700   \n",
       "6           9  10  water   1485.7700    -223.142     727.773     180.491   \n",
       "7          11  12  water   1207.3400    2833.130    -725.103    1720.860   \n",
       "8          14  15  water   2250.3300     671.599     229.826    1831.990   \n",
       "9          15  16  water   4568.4600    5011.310    3088.330    2260.560   \n",
       "\n",
       "   20150415_N  20150330_N  20150314_N  ...  20140610_N  20140525_N  \\\n",
       "0     997.904 -1739.99000     630.087  ...         NaN   -1043.160   \n",
       "1     914.198  -692.38600     707.626  ...         NaN    -933.934   \n",
       "2         NaN -1564.63000         NaN  ...   -1025.880     368.622   \n",
       "3     515.805 -1413.18000    -802.942  ...   -1813.950     155.624   \n",
       "4    1935.800         NaN    2158.980  ...    1535.000    1959.430   \n",
       "5    1046.670    -7.58804    1435.990  ...    1287.740         NaN   \n",
       "6    1779.890  2613.97000    1869.390  ...    3192.460    2152.400   \n",
       "7    1665.010  1037.84000     388.642  ...     875.583    1836.610   \n",
       "8    1842.560  2186.74000    1910.270  ...    1555.150    2133.410   \n",
       "9    1864.960  1834.98000    2236.350  ...    3973.620    2496.830   \n",
       "\n",
       "   20140509_N  20140423_N  20140407_N  20140322_N  20140218_N  20140202_N  \\\n",
       "0  -1942.4900     267.138         NaN         NaN     211.328  -2203.0200   \n",
       "1   -625.3850     120.059    364.8580     476.972     220.878  -2250.0000   \n",
       "2         NaN   -1227.800    304.6210         NaN     369.214  -2202.1200   \n",
       "3         NaN    -924.073    432.1500     282.833     298.320  -2197.3600   \n",
       "4   -279.3170    -384.915   -113.4060    1020.720    1660.650   -116.8010   \n",
       "5   -561.3470     142.293     48.2714         NaN    1742.290    -60.3867   \n",
       "6   -485.5630         NaN    178.7810    1763.990    1480.800    931.3970   \n",
       "7     78.7805         NaN   -463.4920     762.725    1948.980     41.1520   \n",
       "8   1950.3300    1599.420   1430.9100     667.427    1426.470   2480.4900   \n",
       "9   4758.1500    4177.900   4663.6600    2640.090    1943.720   4789.5300   \n",
       "\n",
       "   20140117_N  20140101_N  \n",
       "0   -1180.190     433.906  \n",
       "1   -1360.560     524.075  \n",
       "2         NaN   -1343.550  \n",
       "3         NaN    -826.727  \n",
       "4    -568.050   -1357.140  \n",
       "5   -1187.450   -1255.100  \n",
       "6    -724.129   -1007.910  \n",
       "7   -1404.070   -1095.370  \n",
       "8    1794.960    1378.450  \n",
       "9    4973.420         NaN  \n",
       "\n",
       "[10 rows x 30 columns]"
      ]
     },
     "execution_count": 2,
     "metadata": {},
     "output_type": "execute_result"
    }
   ],
   "source": [
    "df=pd.read_csv(\"/kaggle/input/summer-analytics-mid-hackathon/hacktrain.csv\")\n",
    "import warnings\n",
    "warnings.filterwarnings(\"ignore\")\n",
    "print(df.shape)\n",
    "df.head(10)"
   ]
  },
  {
   "cell_type": "code",
   "execution_count": 3,
   "id": "2e51ade7",
   "metadata": {
    "execution": {
     "iopub.execute_input": "2025-06-12T12:40:43.169682Z",
     "iopub.status.busy": "2025-06-12T12:40:43.169360Z",
     "iopub.status.idle": "2025-06-12T12:40:43.182806Z",
     "shell.execute_reply": "2025-06-12T12:40:43.181775Z"
    },
    "papermill": {
     "duration": 0.0208,
     "end_time": "2025-06-12T12:40:43.184466",
     "exception": false,
     "start_time": "2025-06-12T12:40:43.163666",
     "status": "completed"
    },
    "tags": []
   },
   "outputs": [
    {
     "data": {
      "text/plain": [
       "Unnamed: 0       0\n",
       "ID               0\n",
       "class            0\n",
       "20150720_N     560\n",
       "20150602_N    1200\n",
       "20150517_N     800\n",
       "20150501_N     960\n",
       "20150415_N     480\n",
       "20150330_N    1120\n",
       "20150314_N     720\n",
       "20150226_N    1360\n",
       "20150210_N     640\n",
       "20150125_N    1040\n",
       "20150109_N     880\n",
       "20141117_N    1280\n",
       "20141101_N     400\n",
       "20141016_N    1440\n",
       "20140930_N     800\n",
       "20140813_N     560\n",
       "20140626_N    1600\n",
       "20140610_N     480\n",
       "20140525_N     720\n",
       "20140509_N     880\n",
       "20140423_N    1760\n",
       "20140407_N     640\n",
       "20140322_N    1120\n",
       "20140218_N    1440\n",
       "20140202_N     560\n",
       "20140117_N    1200\n",
       "20140101_N     400\n",
       "dtype: int64"
      ]
     },
     "execution_count": 3,
     "metadata": {},
     "output_type": "execute_result"
    }
   ],
   "source": [
    "df.isnull().sum()"
   ]
  },
  {
   "cell_type": "code",
   "execution_count": 4,
   "id": "5e08c46d",
   "metadata": {
    "execution": {
     "iopub.execute_input": "2025-06-12T12:40:43.195386Z",
     "iopub.status.busy": "2025-06-12T12:40:43.195025Z",
     "iopub.status.idle": "2025-06-12T12:40:43.200986Z",
     "shell.execute_reply": "2025-06-12T12:40:43.199870Z"
    },
    "papermill": {
     "duration": 0.01346,
     "end_time": "2025-06-12T12:40:43.202727",
     "exception": false,
     "start_time": "2025-06-12T12:40:43.189267",
     "status": "completed"
    },
    "tags": []
   },
   "outputs": [
    {
     "name": "stdout",
     "output_type": "stream",
     "text": [
      "<class 'pandas.core.frame.DataFrame'>\n"
     ]
    }
   ],
   "source": [
    "print(type(df))"
   ]
  },
  {
   "cell_type": "code",
   "execution_count": 5,
   "id": "e865ad85",
   "metadata": {
    "execution": {
     "iopub.execute_input": "2025-06-12T12:40:43.213945Z",
     "iopub.status.busy": "2025-06-12T12:40:43.213585Z",
     "iopub.status.idle": "2025-06-12T12:40:43.225547Z",
     "shell.execute_reply": "2025-06-12T12:40:43.224561Z"
    },
    "papermill": {
     "duration": 0.019451,
     "end_time": "2025-06-12T12:40:43.227314",
     "exception": false,
     "start_time": "2025-06-12T12:40:43.207863",
     "status": "completed"
    },
    "tags": []
   },
   "outputs": [
    {
     "data": {
      "text/plain": [
       "Index(['ID', 'class', '20150720_N', '20150602_N', '20150517_N', '20150501_N',\n",
       "       '20150415_N', '20150330_N', '20150314_N', '20150226_N', '20150210_N',\n",
       "       '20150125_N', '20150109_N', '20141117_N', '20141101_N', '20141016_N',\n",
       "       '20140930_N', '20140813_N', '20140626_N', '20140610_N', '20140525_N',\n",
       "       '20140509_N', '20140423_N', '20140407_N', '20140322_N', '20140218_N',\n",
       "       '20140202_N', '20140117_N', '20140101_N'],\n",
       "      dtype='object')"
      ]
     },
     "execution_count": 5,
     "metadata": {},
     "output_type": "execute_result"
    }
   ],
   "source": [
    "df = df.drop(columns=[\"Unnamed: 0\"])\n",
    "df.columns"
   ]
  },
  {
   "cell_type": "code",
   "execution_count": 6,
   "id": "0a0601ba",
   "metadata": {
    "execution": {
     "iopub.execute_input": "2025-06-12T12:40:43.238815Z",
     "iopub.status.busy": "2025-06-12T12:40:43.238466Z",
     "iopub.status.idle": "2025-06-12T12:40:43.248274Z",
     "shell.execute_reply": "2025-06-12T12:40:43.247366Z"
    },
    "papermill": {
     "duration": 0.017382,
     "end_time": "2025-06-12T12:40:43.250025",
     "exception": false,
     "start_time": "2025-06-12T12:40:43.232643",
     "status": "completed"
    },
    "tags": []
   },
   "outputs": [
    {
     "data": {
      "text/plain": [
       "0            water\n",
       "1            water\n",
       "2            water\n",
       "3            water\n",
       "4            water\n",
       "           ...    \n",
       "7995    impervious\n",
       "7996    impervious\n",
       "7997    impervious\n",
       "7998    impervious\n",
       "7999    impervious\n",
       "Name: class, Length: 8000, dtype: object"
      ]
     },
     "execution_count": 6,
     "metadata": {},
     "output_type": "execute_result"
    }
   ],
   "source": [
    "X = df.drop(columns=[\"ID\", \"class\"])\n",
    "y = df[\"class\"]\n",
    "y"
   ]
  },
  {
   "cell_type": "code",
   "execution_count": 7,
   "id": "2e1de172",
   "metadata": {
    "execution": {
     "iopub.execute_input": "2025-06-12T12:40:43.261763Z",
     "iopub.status.busy": "2025-06-12T12:40:43.261471Z",
     "iopub.status.idle": "2025-06-12T12:40:45.945360Z",
     "shell.execute_reply": "2025-06-12T12:40:45.944228Z"
    },
    "papermill": {
     "duration": 2.691944,
     "end_time": "2025-06-12T12:40:45.947208",
     "exception": false,
     "start_time": "2025-06-12T12:40:43.255264",
     "status": "completed"
    },
    "tags": []
   },
   "outputs": [
    {
     "data": {
      "text/plain": [
       "<Axes: >"
      ]
     },
     "execution_count": 7,
     "metadata": {},
     "output_type": "execute_result"
    },
    {
     "data": {
      "image/png": "[encoded data removed]",
      "text/plain": [
       "<Figure size 640x480 with 1 Axes>"
      ]
     },
     "metadata": {},
     "output_type": "display_data"
    }
   ],
   "source": [
    "import matplotlib.pyplot as plt\n",
    "import seaborn as sns\n",
    "sns.boxplot(df)"
   ]
  },
  {
   "cell_type": "code",
   "execution_count": 8,
   "id": "3115edf2",
   "metadata": {
    "execution": {
     "iopub.execute_input": "2025-06-12T12:40:45.961015Z",
     "iopub.status.busy": "2025-06-12T12:40:45.960448Z",
     "iopub.status.idle": "2025-06-12T12:40:46.617805Z",
     "shell.execute_reply": "2025-06-12T12:40:46.616465Z"
    },
    "papermill": {
     "duration": 0.666854,
     "end_time": "2025-06-12T12:40:46.620084",
     "exception": false,
     "start_time": "2025-06-12T12:40:45.953230",
     "status": "completed"
    },
    "tags": []
   },
   "outputs": [],
   "source": [
    "from sklearn.impute import SimpleImputer\n",
    "imputer = SimpleImputer(strategy=\"median\")\n",
    "X_imputed = imputer.fit_transform(X)\n"
   ]
  },
  {
   "cell_type": "code",
   "execution_count": 9,
   "id": "1ae772cb",
   "metadata": {
    "execution": {
     "iopub.execute_input": "2025-06-12T12:40:46.633225Z",
     "iopub.status.busy": "2025-06-12T12:40:46.632777Z",
     "iopub.status.idle": "2025-06-12T12:40:51.711218Z",
     "shell.execute_reply": "2025-06-12T12:40:51.707953Z"
    },
    "papermill": {
     "duration": 5.087211,
     "end_time": "2025-06-12T12:40:51.713200",
     "exception": false,
     "start_time": "2025-06-12T12:40:46.625989",
     "status": "completed"
    },
    "tags": []
   },
   "outputs": [
    {
     "name": "stdout",
     "output_type": "stream",
     "text": [
      "Validation Accuracy: 0.810625\n"
     ]
    }
   ],
   "source": [
    "from sklearn.preprocessing import MinMaxScaler\n",
    "from sklearn.preprocessing import LabelEncoder\n",
    "from sklearn.linear_model import LogisticRegression\n",
    "from sklearn.model_selection import train_test_split\n",
    "from sklearn.metrics import accuracy_score\n",
    "\n",
    "\n",
    "# Step 2: Convert raw NDVI values to real NDVI scale\n",
    "X_scaled_ndvi = X_imputed / 1000.0\n",
    "\n",
    "# Step 3: Clip extreme values to [-1, 1]\n",
    "X_clipped = np.clip(X_scaled_ndvi, -1, 1)\n",
    "\n",
    "# Step 4: Normalize to [-1, 1]\n",
    "scaler = MinMaxScaler(feature_range=(-1, 1))\n",
    "X_final = scaler.fit_transform(X_clipped)\n",
    "\n",
    "# Step 5: Encode labels\n",
    "encoder = LabelEncoder()\n",
    "y_encoded = encoder.fit_transform(y)\n",
    "\n",
    "# Step 6: Split for validation\n",
    "X_train, X_val, y_train, y_val = train_test_split(\n",
    "    X_final, y_encoded, test_size=0.2, stratify=y_encoded, random_state=42\n",
    ")\n",
    "\n",
    "# Step 7: Train Logistic Regression\n",
    "model = LogisticRegression(multi_class='multinomial', max_iter=1000)\n",
    "model.fit(X_train, y_train)\n",
    "\n",
    "# Step 8: Evaluate accuracy\n",
    "y_pred = model.predict(X_val)\n",
    "acc = accuracy_score(y_val, y_pred)\n",
    "print(\"Validation Accuracy:\", acc)\n"
   ]
  },
  {
   "cell_type": "code",
   "execution_count": 10,
   "id": "957894bf",
   "metadata": {
    "execution": {
     "iopub.execute_input": "2025-06-12T12:40:51.744216Z",
     "iopub.status.busy": "2025-06-12T12:40:51.743058Z",
     "iopub.status.idle": "2025-06-12T12:40:52.509526Z",
     "shell.execute_reply": "2025-06-12T12:40:52.507119Z"
    },
    "papermill": {
     "duration": 0.778968,
     "end_time": "2025-06-12T12:40:52.511932",
     "exception": false,
     "start_time": "2025-06-12T12:40:51.732964",
     "status": "completed"
    },
    "tags": []
   },
   "outputs": [
    {
     "name": "stdout",
     "output_type": "stream",
     "text": [
      "Validation Accuracy: 0.8681\n"
     ]
    }
   ],
   "source": [
    "import pandas as pd\n",
    "import numpy as np\n",
    "from sklearn.impute import SimpleImputer\n",
    "from sklearn.preprocessing import MinMaxScaler, LabelEncoder\n",
    "from sklearn.linear_model import LogisticRegression\n",
    "from sklearn.model_selection import train_test_split\n",
    "from sklearn.metrics import accuracy_score\n",
    "\n",
    "\n",
    "# Impute missing NDVI values with median\n",
    "imputer = SimpleImputer(strategy=\"median\")\n",
    "X_imputed = imputer.fit_transform(X)\n",
    "\n",
    "# Scale NDVI values to [-1, 1]\n",
    "scaler = MinMaxScaler(feature_range=(-1, 1))\n",
    "X_scaled = scaler.fit_transform(X_imputed)\n",
    "\n",
    "# Encode target labels\n",
    "encoder = LabelEncoder()\n",
    "y_encoded = encoder.fit_transform(y)\n",
    "\n",
    "# Split into training and validation sets\n",
    "X_train, X_val, y_train, y_val = train_test_split(\n",
    "    X_scaled, y_encoded, test_size=0.2, random_state=42, stratify=y_encoded\n",
    ")\n",
    "\n",
    "# Train Logistic Regression model\n",
    "model = LogisticRegression(multi_class=\"multinomial\", max_iter=1000)\n",
    "model.fit(X_train, y_train)\n",
    "\n",
    "# Predict and evaluate\n",
    "y_pred = model.predict(X_val)\n",
    "accuracy = accuracy_score(y_val, y_pred)\n",
    "print(f\"Validation Accuracy: {accuracy:.4f}\")\n"
   ]
  },
  {
   "cell_type": "code",
   "execution_count": 11,
   "id": "dac066b7",
   "metadata": {
    "execution": {
     "iopub.execute_input": "2025-06-12T12:40:52.556490Z",
     "iopub.status.busy": "2025-06-12T12:40:52.551616Z",
     "iopub.status.idle": "2025-06-12T12:40:52.630640Z",
     "shell.execute_reply": "2025-06-12T12:40:52.629251Z"
    },
    "papermill": {
     "duration": 0.110684,
     "end_time": "2025-06-12T12:40:52.632768",
     "exception": false,
     "start_time": "2025-06-12T12:40:52.522084",
     "status": "completed"
    },
    "tags": []
   },
   "outputs": [
    {
     "name": "stdout",
     "output_type": "stream",
     "text": [
      "Submission file 'submission.csv' created.\n"
     ]
    }
   ],
   "source": [
    "# Predict on the full training set (replace with test set when available)\n",
    "df_test = df.copy()  # For real use: pd.read_csv(\"hacktest.csv\")\n",
    "\n",
    "# Keep ID for submission\n",
    "ids = df_test[\"ID\"]\n",
    "\n",
    "# Drop unnecessary columns\n",
    "X_test = df_test.drop(columns=[\"ID\", \"class\"])\n",
    "\n",
    "# Impute and scale\n",
    "X_test_imputed = imputer.transform(X_test)\n",
    "X_test_scaled = scaler.transform(X_test_imputed)\n",
    "\n",
    "# Predict classes\n",
    "y_test_pred = model.predict(X_test_scaled)\n",
    "y_test_labels = encoder.inverse_transform(y_test_pred)\n",
    "\n",
    "# Create submission dataframe\n",
    "submission_df = pd.DataFrame({\n",
    "    \"ID\": ids,\n",
    "    \"class\": y_test_labels\n",
    "})\n",
    "\n",
    "# Save to CSV\n",
    "submission_df.to_csv(\"submission.csv\", index=False)\n",
    "print(\"Submission file 'submission.csv' created.\")\n"
   ]
  },
  {
   "cell_type": "code",
   "execution_count": 12,
   "id": "20eeb401",
   "metadata": {
    "execution": {
     "iopub.execute_input": "2025-06-12T12:40:52.649988Z",
     "iopub.status.busy": "2025-06-12T12:40:52.648639Z",
     "iopub.status.idle": "2025-06-12T12:40:53.558674Z",
     "shell.execute_reply": "2025-06-12T12:40:53.557828Z"
    },
    "papermill": {
     "duration": 0.923815,
     "end_time": "2025-06-12T12:40:53.563354",
     "exception": false,
     "start_time": "2025-06-12T12:40:52.639539",
     "status": "completed"
    },
    "tags": []
   },
   "outputs": [
    {
     "name": "stdout",
     "output_type": "stream",
     "text": [
      "Validation Accuracy: 0.866875\n"
     ]
    }
   ],
   "source": [
    "from sklearn.preprocessing import MinMaxScaler\n",
    "from sklearn.preprocessing import LabelEncoder\n",
    "from sklearn.linear_model import LogisticRegression\n",
    "from sklearn.model_selection import train_test_split\n",
    "from sklearn.metrics import accuracy_score\n",
    "from scipy.stats import zscore\n",
    "\n",
    "\n",
    "# Step 2: Convert raw NDVI values to real NDVI scale\n",
    "X_scaled_ndvi = X_imputed / 1000.0\n",
    "\n",
    "z_scores = np.abs(zscore(X_scaled_ndvi, nan_policy='omit'))\n",
    "X_no_outliers = X_scaled_ndvi.copy()\n",
    "X_no_outliers[z_scores > 3] = np.nan  # Treat outliers as missing\n",
    "\n",
    "# Step 4: Re-impute after removing outliers\n",
    "X_no_outliers_imputed = SimpleImputer(strategy='median').fit_transform(X_no_outliers)\n",
    "\n",
    "# Step 5: Normalize to [-1, 1]\n",
    "scaler = MinMaxScaler(feature_range=(-1, 1))\n",
    "X_final = scaler.fit_transform(X_no_outliers_imputed)\n",
    "\n",
    "# # Step 4: Normalize to [-1, 1]\n",
    "# scaler = MinMaxScaler(feature_range=(-1, 1))\n",
    "# X_final = scaler.fit_transform(X_clipped)\n",
    "\n",
    "# Step 5: Encode labels\n",
    "encoder = LabelEncoder()\n",
    "y_encoded = encoder.fit_transform(y)\n",
    "\n",
    "# Step 6: Split for validation\n",
    "X_train, X_val, y_train, y_val = train_test_split(\n",
    "    X_final, y_encoded, test_size=0.2, stratify=y_encoded, random_state=42\n",
    ")\n",
    "\n",
    "# Step 7: Train Logistic Regression\n",
    "model = LogisticRegression(multi_class='multinomial', max_iter=1000)\n",
    "model.fit(X_train, y_train)\n",
    "\n",
    "# Step 8: Evaluate accuracy\n",
    "y_pred = model.predict(X_val)\n",
    "acc = accuracy_score(y_val, y_pred)\n",
    "print(\"Validation Accuracy:\", acc)\n"
   ]
  },
  {
   "cell_type": "code",
   "execution_count": 13,
   "id": "702236ff",
   "metadata": {
    "execution": {
     "iopub.execute_input": "2025-06-12T12:40:53.590175Z",
     "iopub.status.busy": "2025-06-12T12:40:53.589775Z",
     "iopub.status.idle": "2025-06-12T12:41:01.637917Z",
     "shell.execute_reply": "2025-06-12T12:41:01.636984Z"
    },
    "papermill": {
     "duration": 8.06093,
     "end_time": "2025-06-12T12:41:01.640288",
     "exception": false,
     "start_time": "2025-06-12T12:40:53.579358",
     "status": "completed"
    },
    "tags": []
   },
   "outputs": [
    {
     "name": "stdout",
     "output_type": "stream",
     "text": [
      "Validation Accuracy - Model 1 (clip + scale): 0.8106\n",
      "Validation Accuracy - Model 2 (scale only):   0.8681\n",
      "Validation Accuracy - Model 3 (z-score outlier removal): 0.8669\n",
      "Saved: Model_1_submission.csv\n",
      "Saved: Model_2_submission.csv\n",
      "Saved: Model_3_submission.csv\n"
     ]
    }
   ],
   "source": [
    "import pandas as pd\n",
    "import numpy as np\n",
    "from sklearn.impute import SimpleImputer\n",
    "from sklearn.preprocessing import MinMaxScaler, LabelEncoder\n",
    "from sklearn.linear_model import LogisticRegression\n",
    "from sklearn.model_selection import train_test_split\n",
    "from sklearn.metrics import accuracy_score\n",
    "from scipy.stats import zscore\n",
    "\n",
    "# Load Data\n",
    "train_df = pd.read_csv(\"/kaggle/input/summer-analytics-mid-hackathon/hacktrain.csv\")\n",
    "test_df = pd.read_csv(\"/kaggle/input/summer-analytics-mid-hackathon/hacktest.csv\")\n",
    "\n",
    "# Drop unwanted column\n",
    "train_df = train_df.drop(columns=['Unnamed: 0'], errors='ignore')\n",
    "test_df = test_df.drop(columns=['Unnamed: 0'], errors='ignore')\n",
    "\n",
    "# Separate features and target\n",
    "X = train_df.drop(columns=[\"ID\", \"class\"])\n",
    "y = train_df[\"class\"]\n",
    "X_test = test_df.drop(columns=[\"ID\"])\n",
    "\n",
    "# Encode target\n",
    "label_encoder = LabelEncoder()\n",
    "y_encoded = label_encoder.fit_transform(y)\n",
    "\n",
    "# Prepare output holder\n",
    "submission_dfs = {}\n",
    "\n",
    "### -------- MODEL 1 -------- ###\n",
    "# Impute\n",
    "imp = SimpleImputer(strategy=\"median\")\n",
    "X_imp = imp.fit_transform(X)\n",
    "X_test_imp = imp.transform(X_test)\n",
    "\n",
    "# Scale NDVI\n",
    "X_scaled = X_imp / 1000.0\n",
    "X_test_scaled = X_test_imp / 1000.0\n",
    "\n",
    "# Clip\n",
    "X_clipped = np.clip(X_scaled, -1, 1)\n",
    "X_test_clipped = np.clip(X_test_scaled, -1, 1)\n",
    "\n",
    "# Normalize\n",
    "scaler1 = MinMaxScaler(feature_range=(-1, 1)).fit(X_clipped)\n",
    "X_final = scaler1.transform(X_clipped)\n",
    "X_test_final = scaler1.transform(X_test_clipped)\n",
    "\n",
    "# Split and Train\n",
    "X_train, X_val, y_train, y_val = train_test_split(X_final, y_encoded, test_size=0.2, stratify=y_encoded, random_state=42)\n",
    "model1 = LogisticRegression(multi_class='multinomial', max_iter=1000)\n",
    "model1.fit(X_train, y_train)\n",
    "\n",
    "# Accuracy and Predictions\n",
    "val_acc_1 = accuracy_score(y_val, model1.predict(X_val))\n",
    "pred_1 = model1.predict(X_test_final)\n",
    "submission_dfs['Model_1'] = pd.DataFrame({'ID': test_df['ID'], 'class': label_encoder.inverse_transform(pred_1)})\n",
    "\n",
    "### -------- MODEL 2 -------- ###\n",
    "X_imp2 = imp.fit_transform(X)\n",
    "X_test_imp2 = imp.transform(X_test)\n",
    "\n",
    "scaler2 = MinMaxScaler(feature_range=(-1, 1)).fit(X_imp2)\n",
    "X_final2 = scaler2.transform(X_imp2)\n",
    "X_test_final2 = scaler2.transform(X_test_imp2)\n",
    "\n",
    "X_train2, X_val2, y_train2, y_val2 = train_test_split(X_final2, y_encoded, test_size=0.2, stratify=y_encoded, random_state=42)\n",
    "model2 = LogisticRegression(multi_class=\"multinomial\", max_iter=1000)\n",
    "model2.fit(X_train2, y_train2)\n",
    "\n",
    "val_acc_2 = accuracy_score(y_val2, model2.predict(X_val2))\n",
    "pred_2 = model2.predict(X_test_final2)\n",
    "submission_dfs['Model_2'] = pd.DataFrame({'ID': test_df['ID'], 'class': label_encoder.inverse_transform(pred_2)})\n",
    "\n",
    "### -------- MODEL 3 -------- ###\n",
    "X_scaled3 = X_imp / 1000.0\n",
    "z = np.abs(zscore(X_scaled3, nan_policy='omit'))\n",
    "X_out3 = X_scaled3.copy()\n",
    "X_out3[z > 3] = np.nan\n",
    "X_out3_imp = SimpleImputer(strategy=\"median\").fit_transform(X_out3)\n",
    "\n",
    "scaler3 = MinMaxScaler(feature_range=(-1, 1)).fit(X_out3_imp)\n",
    "X_final3 = scaler3.transform(X_out3_imp)\n",
    "\n",
    "# Test: same pipeline\n",
    "X_test_scaled3 = X_test_imp / 1000.0\n",
    "z_test = np.abs(zscore(X_test_scaled3, nan_policy='omit'))\n",
    "X_test_scaled3[z_test > 3] = np.nan\n",
    "X_test_out3_imp = SimpleImputer(strategy=\"median\").fit(X_out3).transform(X_test_scaled3)\n",
    "X_test_final3 = scaler3.transform(X_test_out3_imp)\n",
    "\n",
    "X_train3, X_val3, y_train3, y_val3 = train_test_split(X_final3, y_encoded, test_size=0.2, stratify=y_encoded, random_state=42)\n",
    "model3 = LogisticRegression(multi_class=\"multinomial\", max_iter=1000)\n",
    "model3.fit(X_train3, y_train3)\n",
    "\n",
    "val_acc_3 = accuracy_score(y_val3, model3.predict(X_val3))\n",
    "pred_3 = model3.predict(X_test_final3)\n",
    "submission_dfs['Model_3'] = pd.DataFrame({'ID': test_df['ID'], 'class': label_encoder.inverse_transform(pred_3)})\n",
    "\n",
    "### Print Accuracies\n",
    "print(f\"Validation Accuracy - Model 1 (clip + scale): {val_acc_1:.4f}\")\n",
    "print(f\"Validation Accuracy - Model 2 (scale only):   {val_acc_2:.4f}\")\n",
    "print(f\"Validation Accuracy - Model 3 (z-score outlier removal): {val_acc_3:.4f}\")\n",
    "\n",
    "### Save submission files\n",
    "for name, df in submission_dfs.items():\n",
    "    df.to_csv(f\"{name}_submission.csv\", index=False)\n",
    "    print(f\"Saved: {name}_submission.csv\")\n"
   ]
  },
  {
   "cell_type": "code",
   "execution_count": 14,
   "id": "c98851bd",
   "metadata": {
    "execution": {
     "iopub.execute_input": "2025-06-12T12:41:01.661010Z",
     "iopub.status.busy": "2025-06-12T12:41:01.660608Z",
     "iopub.status.idle": "2025-06-12T12:41:02.415434Z",
     "shell.execute_reply": "2025-06-12T12:41:02.411480Z"
    },
    "papermill": {
     "duration": 0.767874,
     "end_time": "2025-06-12T12:41:02.417771",
     "exception": false,
     "start_time": "2025-06-12T12:41:01.649897",
     "status": "completed"
    },
    "tags": []
   },
   "outputs": [
    {
     "name": "stdout",
     "output_type": "stream",
     "text": [
      "Validation Accuracy - Model 4 (IQR + row deletion): 0.8674\n"
     ]
    }
   ],
   "source": [
    "import pandas as pd\n",
    "import numpy as np\n",
    "from sklearn.linear_model import LogisticRegression\n",
    "from sklearn.preprocessing import LabelEncoder, MinMaxScaler\n",
    "from sklearn.model_selection import train_test_split\n",
    "from sklearn.impute import SimpleImputer\n",
    "from sklearn.metrics import accuracy_score\n",
    "\n",
    "# Load and prepare\n",
    "train_df = pd.read_csv(\"/kaggle/input/summer-analytics-mid-hackathon/hacktrain.csv\")\n",
    "test_df = pd.read_csv(\"/kaggle/input/summer-analytics-mid-hackathon/hacktest.csv\")\n",
    "train_df.drop(columns=['Unnamed: 0'], errors='ignore', inplace=True)\n",
    "test_df.drop(columns=['Unnamed: 0'], errors='ignore', inplace=True)\n",
    "\n",
    "X = train_df.drop(columns=[\"ID\", \"class\"])\n",
    "y = train_df[\"class\"]\n",
    "X_test = test_df.drop(columns=[\"ID\"])\n",
    "\n",
    "# --- Model 4: IQR-based row removal ---\n",
    "Q1 = X.quantile(0.25)\n",
    "Q3 = X.quantile(0.75)\n",
    "IQR = Q3 - Q1\n",
    "\n",
    "# Flag outliers\n",
    "mask = ~((X < (Q1 - 1.5 * IQR)) | (X > (Q3 + 1.5 * IQR))).any(axis=1)\n",
    "\n",
    "# Filter data\n",
    "X_iqr_filtered = X[mask]\n",
    "y_iqr_filtered = y[mask]\n",
    "\n",
    "# Impute missing values (post-removal)\n",
    "imputer = SimpleImputer(strategy='median')\n",
    "X_iqr_imputed = imputer.fit_transform(X_iqr_filtered)\n",
    "X_test_imputed = imputer.transform(X_test)\n",
    "\n",
    "# Normalize\n",
    "scaler = MinMaxScaler(feature_range=(-1, 1)).fit(X_iqr_imputed)\n",
    "X_train_final = scaler.transform(X_iqr_imputed)\n",
    "X_test_final = scaler.transform(X_test_imputed)\n",
    "\n",
    "# Encode target\n",
    "le = LabelEncoder()\n",
    "y_encoded = le.fit_transform(y_iqr_filtered)\n",
    "\n",
    "# Train-Test Split\n",
    "X_train, X_val, y_train, y_val = train_test_split(\n",
    "    X_train_final, y_encoded, test_size=0.2, stratify=y_encoded, random_state=42\n",
    ")\n",
    "\n",
    "# Train Model\n",
    "model4 = LogisticRegression(multi_class=\"multinomial\", max_iter=1000)\n",
    "model4.fit(X_train, y_train)\n",
    "\n",
    "# Validation Accuracy\n",
    "val_pred_4 = model4.predict(X_val)\n",
    "val_acc_4 = accuracy_score(y_val, val_pred_4)\n",
    "pred = model4.predict(X_test_final)\n",
    "print(f\"Validation Accuracy - Model 4 (IQR + row deletion): {val_acc_4:.4f}\")\n",
    "df = pd.DataFrame({'ID': test_df['ID'], 'class': encoder.inverse_transform(pred)})\n",
    "df.to_csv(\"SubmissionModel4.csv\", index=False)"
   ]
  },
  {
   "cell_type": "code",
   "execution_count": 15,
   "id": "0f037f63",
   "metadata": {
    "execution": {
     "iopub.execute_input": "2025-06-12T12:41:02.439088Z",
     "iopub.status.busy": "2025-06-12T12:41:02.438655Z",
     "iopub.status.idle": "2025-06-12T12:41:03.282468Z",
     "shell.execute_reply": "2025-06-12T12:41:03.281658Z"
    },
    "papermill": {
     "duration": 0.859566,
     "end_time": "2025-06-12T12:41:03.287198",
     "exception": false,
     "start_time": "2025-06-12T12:41:02.427632",
     "status": "completed"
    },
    "tags": []
   },
   "outputs": [
    {
     "name": "stdout",
     "output_type": "stream",
     "text": [
      "Validation Accuracy - Model 5 (IQR + value replacement): 0.8606\n"
     ]
    }
   ],
   "source": [
    "# --- Model 5: IQR outlier handling by replacing with median ---\n",
    "X_orig = X.copy()\n",
    "\n",
    "# Compute IQR\n",
    "Q1 = X_orig.quantile(0.25)\n",
    "Q3 = X_orig.quantile(0.75)\n",
    "IQR = Q3 - Q1\n",
    "\n",
    "# Outlier mask\n",
    "outlier_mask = ((X_orig < (Q1 - 1.5 * IQR)) | (X_orig > (Q3 + 1.5 * IQR)))\n",
    "\n",
    "# Replace outliers with column medians\n",
    "X_iqr_fixed = X_orig.copy()\n",
    "for col in X_iqr_fixed.columns:\n",
    "    median_val = X_iqr_fixed[col].median()\n",
    "    X_iqr_fixed.loc[outlier_mask[col], col] = median_val\n",
    "\n",
    "# Impute (if any missing left)\n",
    "imputer = SimpleImputer(strategy='median')\n",
    "X_fixed_imputed = imputer.fit_transform(X_iqr_fixed)\n",
    "X_test_imputed = imputer.transform(X_test)\n",
    "\n",
    "# Scale\n",
    "scaler = MinMaxScaler(feature_range=(-1, 1)).fit(X_fixed_imputed)\n",
    "X_train_final = scaler.transform(X_fixed_imputed)\n",
    "X_test_final = scaler.transform(X_test_imputed)\n",
    "\n",
    "# Encode\n",
    "le = LabelEncoder()\n",
    "y_encoded = le.fit_transform(y)\n",
    "\n",
    "# Train-Test Split\n",
    "X_train, X_val, y_train, y_val = train_test_split(\n",
    "    X_train_final, y_encoded, test_size=0.2, stratify=y_encoded, random_state=42\n",
    ")\n",
    "\n",
    "# Train Model\n",
    "model5 = LogisticRegression(multi_class=\"multinomial\", max_iter=1000)\n",
    "model5.fit(X_train, y_train)\n",
    "\n",
    "# Validation Accuracy\n",
    "val_pred_5 = model5.predict(X_val)\n",
    "val_acc_5 = accuracy_score(y_val, val_pred_5)\n",
    "pred = model5.predict(X_test_final)\n",
    "print(f\"Validation Accuracy - Model 5 (IQR + value replacement): {val_acc_5:.4f}\")\n",
    "df = pd.DataFrame({'ID': test_df['ID'], 'class': encoder.inverse_transform(pred)})\n",
    "df.to_csv(\"SubmissionModel5.csv\", index=False)\n"
   ]
  },
  {
   "cell_type": "code",
   "execution_count": 16,
   "id": "aa4372d2",
   "metadata": {
    "execution": {
     "iopub.execute_input": "2025-06-12T12:41:03.315499Z",
     "iopub.status.busy": "2025-06-12T12:41:03.313673Z",
     "iopub.status.idle": "2025-06-12T12:41:19.629207Z",
     "shell.execute_reply": "2025-06-12T12:41:19.625888Z"
    },
    "papermill": {
     "duration": 16.33123,
     "end_time": "2025-06-12T12:41:19.631471",
     "exception": false,
     "start_time": "2025-06-12T12:41:03.300241",
     "status": "completed"
    },
    "tags": []
   },
   "outputs": [],
   "source": [
    "import pandas as pd\n",
    "import numpy as np\n",
    "from sklearn.impute import KNNImputer\n",
    "from sklearn.preprocessing import MinMaxScaler, LabelEncoder\n",
    "from sklearn.linear_model import LogisticRegression\n",
    "from sklearn.decomposition import PCA\n",
    "from sklearn.model_selection import train_test_split\n",
    "from sklearn.metrics import accuracy_score\n",
    "\n",
    "train_df = pd.read_csv(\"/kaggle/input/summer-analytics-mid-hackathon/hacktrain.csv\")\n",
    "test_df = pd.read_csv(\"/kaggle/input/summer-analytics-mid-hackathon/hacktest.csv\")\n",
    "train_df = train_df.drop(columns=['Unnamed: 0'], errors='ignore')\n",
    "test_df = test_df.drop(columns=['Unnamed: 0'], errors='ignore')\n",
    "\n",
    "# Separate features and labels\n",
    "X_train = train_df.drop(columns=['ID', 'class'])\n",
    "y_train = train_df['class']\n",
    "X_test = test_df.drop(columns=['ID'])\n",
    "\n",
    "# Combine for uniform preprocessing\n",
    "combined = pd.concat([X_train, X_test], ignore_index=True)\n",
    "\n",
    "# Step 1: Impute missing values using KNN\n",
    "imputer = KNNImputer(n_neighbors=3)\n",
    "combined_imputed = imputer.fit_transform(combined)\n",
    "\n",
    "# Step 2: NDVI scaling and clipping to [-1, 1]\n",
    "combined_scaled = combined_imputed / 1000.0\n",
    "combined_scaled = np.clip(combined_scaled, -1, 1)\n",
    "\n",
    "# Step 3: Feature Engineering\n",
    "mean_vals = np.mean(combined_scaled, axis=1).reshape(-1, 1)\n",
    "std_vals = np.std(combined_scaled, axis=1).reshape(-1, 1)\n",
    "min_vals = np.min(combined_scaled, axis=1).reshape(-1, 1)\n",
    "max_vals = np.max(combined_scaled, axis=1).reshape(-1, 1)\n",
    "\n",
    "# PCA Features\n",
    "pca = PCA(n_components=3)\n",
    "pca_features = pca.fit_transform(combined_scaled)\n",
    "\n",
    "# Temporal Differencing (1st order)\n",
    "diff_features = np.diff(combined_scaled, axis=1)\n",
    "diff_mean = np.mean(diff_features, axis=1).reshape(-1, 1)\n",
    "diff_std = np.std(diff_features, axis=1).reshape(-1, 1)\n",
    "\n",
    "# Concatenate all features\n",
    "combined_features = np.hstack([\n",
    "    combined_scaled,\n",
    "    mean_vals, std_vals, min_vals, max_vals,\n",
    "    pca_features,\n",
    "    diff_mean, diff_std\n",
    "])\n",
    "\n",
    "# Split back to train/test\n",
    "X_train_combined = combined_features[:len(X_train)]\n",
    "X_test_combined = combined_features[len(X_train):]\n",
    "\n",
    "# Encode target labels\n",
    "encoder = LabelEncoder()\n",
    "y_encoded = encoder.fit_transform(y_train)\n",
    "\n",
    "# Train-validation split\n",
    "X_tr, X_val, y_tr, y_val = train_test_split(\n",
    "    X_train_combined, y_encoded, test_size=0.2, stratify=y_encoded, random_state=42\n",
    ")\n",
    "\n",
    "# Train Logistic Regression with class_weight balanced\n",
    "model = LogisticRegression(multi_class='multinomial', max_iter=2000, class_weight='balanced')\n",
    "model.fit(X_tr, y_tr)\n",
    "\n",
    "# Evaluate validation accuracy\n",
    "y_val_pred = model.predict(X_val)\n",
    "val_accuracy = accuracy_score(y_val, y_val_pred)\n",
    "\n",
    "# Predict on test data\n",
    "pred = model.predict(X_test_combined)\n",
    "submission_df = pd.DataFrame({'ID': test_df['ID'], 'class': encoder.inverse_transform(pred)})\n",
    "\n",
    "# Save to CSV\n",
    "submission_path = \"SubmissionModel7.csv\"\n",
    "submission_df.to_csv(submission_path, index=False)"
   ]
  },
  {
   "cell_type": "code",
   "execution_count": null,
   "id": "020f7935",
   "metadata": {
    "papermill": {
     "duration": 0.008661,
     "end_time": "2025-06-12T12:41:19.650993",
     "exception": false,
     "start_time": "2025-06-12T12:41:19.642332",
     "status": "completed"
    },
    "tags": []
   },
   "outputs": [],
   "source": []
  }
 ],
 "metadata": {
  "kaggle": {
   "accelerator": "none",
   "dataSources": [
    {
     "databundleVersionId": 12585144,
     "sourceId": 104491,
     "sourceType": "competition"
    }
   ],
   "dockerImageVersionId": 31040,
   "isGpuEnabled": false,
   "isInternetEnabled": true,
   "language": "python",
   "sourceType": "notebook"
  },
  "kernelspec": {
   "display_name": "Python 3",
   "language": "python",
   "name": "python3"
  },
  "language_info": {
   "codemirror_mode": {
    "name": "ipython",
    "version": 3
   },
   "file_extension": ".py",
   "mimetype": "text/x-python",
   "name": "python",
   "nbconvert_exporter": "python",
   "pygments_lexer": "ipython3",
   "version": "3.11.11"
  },
  "papermill": {
   "default_parameters": {},
   "duration": 45.112012,
   "end_time": "2025-06-12T12:41:20.483157",
   "environment_variables": {},
   "exception": null,
   "input_path": "__notebook__.ipynb",
   "output_path": "__notebook__.ipynb",
   "parameters": {},
   "start_time": "2025-06-12T12:40:35.371145",
   "version": "2.6.0"
  }
 },
 "nbformat": 4,
 "nbformat_minor": 5
}
